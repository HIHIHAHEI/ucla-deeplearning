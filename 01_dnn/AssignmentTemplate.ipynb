{
 "cells": [
  {
   "cell_type": "code",
   "execution_count": 10,
   "metadata": {},
   "outputs": [],
   "source": [
    "# In this assingnment, we will be using Pandas dataframes\n",
    "# to read, transform, and store MNIST images. Make sure\n",
    "# you are familiar with its API:\n",
    "# https://pandas.pydata.org/pandas-docs/stable/\n",
    "\n",
    "import pandas as pd"
   ]
  },
  {
   "cell_type": "code",
   "execution_count": 12,
   "metadata": {},
   "outputs": [],
   "source": [
    "# Enter here the Dataset ID that you have received in the spreadsheet.\n",
    "# Make sure that you use the ID that was assigned to you, \n",
    "# otherwise your submission will be graded against the wrong images.\n",
    "dataset_id = '20200928-020523_792d586d3ce16db14ada4e63dc9fe410'\n",
    "\n",
    "# Assignment datasets are stored in an AWS S3 bucket. The following code\n",
    "# downloads your dataset (~300MB) directly into RAM. Optionally,\n",
    "# you can save the datasets to the local disk, but that's really not required.\n",
    "prefix = f'https://danylo-ucla.s3-us-west-2.amazonaws.com/app/storage/mnist/jobs/transform_repack/{dataset_id}'\n",
    "\n",
    "# These three dataframes contain clean images. Use each dataframe\n",
    "# to train, validate, and test your model, respectively.\n",
    "train_clean_X = pd.read_parquet(f'{prefix}/train_clean_x.parquet')\n",
    "validate_clean_X = pd.read_parquet(f'{prefix}/validate_clean_x.parquet')\n",
    "test_clean_X = pd.read_parquet(f'{prefix}/test_clean_x.parquet')\n",
    "\n",
    "# These dataframes are noisy versions of the dataframes above.\n",
    "train_noisy_X = pd.read_parquet(f'{prefix}/train_noisy_x.parquet')\n",
    "validate_noisy_X = pd.read_parquet(f'{prefix}/validate_noisy_x.parquet')\n",
    "test_noisy_X = pd.read_parquet(f'{prefix}/test_noisy_x.parquet')\n",
    "\n",
    "# This is the segment of the dataset that will be graded in this assignment.\n",
    "# Your model has to denoise this dataframe, and you have to submit the denoised version of this dataframe.\n",
    "score_noisy_X = pd.read_parquet(f'{prefix}/score_noisy_x.parquet')\n",
    "\n",
    "# For additional context, these are labels (e.g. digits) corresponding\n",
    "# to each image in the dataset. Use it to analyze which digits\n",
    "# your models has more or less problems with. These dataframes\n",
    "# should not be used as part of the training process itself,\n",
    "# only for post-training analysis, if you wish so.\n",
    "train_y = pd.read_parquet(f'{prefix}/train_y.parquet')\n",
    "validate_y = pd.read_parquet(f'{prefix}/validate_y.parquet')\n",
    "test_y = pd.read_parquet(f'{prefix}/test_y.parquet')"
   ]
  },
  {
   "cell_type": "code",
   "execution_count": 13,
   "metadata": {},
   "outputs": [],
   "source": [
    "# While not strictly required for this assignment,\n",
    "# you will probably want to plot images to\n",
    "# have a visual understanding of the model's performance.\n",
    "# You can use any Python plotting library, for example:\n",
    "# https://matplotlib.org/contents.html\n",
    "\n",
    "import matplotlib.pyplot as plt\n",
    "%config InlineBackend.figure_format = 'retina'"
   ]
  },
  {
   "cell_type": "code",
   "execution_count": 14,
   "metadata": {},
   "outputs": [
    {
     "data": {
      "text/plain": [
       "(49000, 784)"
      ]
     },
     "execution_count": 14,
     "metadata": {},
     "output_type": "execute_result"
    }
   ],
   "source": [
    "# Just as in the lecture slides, the input matrix\n",
    "# has row vectors that hold pixels of a single 28x28 image.\n",
    "# Note that the column vectors are individual locations on\n",
    "# the 28x28 grid, but flattened in a row-major way (28x28=784).\n",
    "train_clean_X.shape"
   ]
  },
  {
   "cell_type": "code",
   "execution_count": 15,
   "metadata": {},
   "outputs": [
    {
     "data": {
      "text/plain": [
       "<matplotlib.image.AxesImage at 0x7fbdabd65af0>"
      ]
     },
     "execution_count": 15,
     "metadata": {},
     "output_type": "execute_result"
    },
    {
     "data": {
      "image/png": "[encoded data removed]",
      "text/plain": [
       "<Figure size 432x288 with 1 Axes>"
      ]
     },
     "metadata": {
      "image/png": {
       "height": 248,
       "width": 251
      },
      "needs_background": "light"
     },
     "output_type": "display_data"
    }
   ],
   "source": [
    "# Let's select a clean image from the dataset\n",
    "image_pixels = train_clean_X.iloc[4]\n",
    "\n",
    "# In order to plot an image, you need to reshape\n",
    "# the flattened array back into a 28x28 grid.\n",
    "image_pixels = image_pixels.values.reshape(28, 28)\n",
    "\n",
    "plt.imshow(image_pixels, cmap='binary')"
   ]
  },
  {
   "cell_type": "code",
   "execution_count": 16,
   "metadata": {},
   "outputs": [
    {
     "data": {
      "text/plain": [
       "<matplotlib.image.AxesImage at 0x7fbdab4edc40>"
      ]
     },
     "execution_count": 16,
     "metadata": {},
     "output_type": "execute_result"
    },
    {
     "data": {
      "image/png": "[encoded data removed]",
      "text/plain": [
       "<Figure size 432x288 with 1 Axes>"
      ]
     },
     "metadata": {
      "image/png": {
       "height": 248,
       "width": 251
      },
      "needs_background": "light"
     },
     "output_type": "display_data"
    }
   ],
   "source": [
    "# Let's select a noisy image from the dataset\n",
    "image_pixels = train_noisy_X.iloc[4]\n",
    "\n",
    "# In order to plot an image, you need to reshape\n",
    "# the flattened array back into a 28x28 grid.\n",
    "image_pixels = image_pixels.values.reshape(28, 28)\n",
    "\n",
    "plt.imshow(image_pixels, cmap='binary')"
   ]
  },
  {
   "cell_type": "code",
   "execution_count": 17,
   "metadata": {},
   "outputs": [
    {
     "data": {
      "text/plain": [
       "digit    5\n",
       "Name: 4, dtype: uint8"
      ]
     },
     "execution_count": 17,
     "metadata": {},
     "output_type": "execute_result"
    }
   ],
   "source": [
    "train_y.iloc[4]"
   ]
  },
  {
   "cell_type": "code",
   "execution_count": 18,
   "metadata": {},
   "outputs": [],
   "source": [
    "# Run this cell to configure Tensorflow to use your GPU\n",
    "import tensorflow as tf\n",
    "for gpu in tf.config.experimental.list_physical_devices('GPU'):\n",
    "    print(gpu)\n",
    "    tf.config.experimental.set_memory_growth(gpu, True)"
   ]
  },
  {
   "cell_type": "code",
   "execution_count": 19,
   "metadata": {},
   "outputs": [],
   "source": [
    "# In this couse, all assignments are expected to be\n",
    "# implemented with Tensorflow framework.\n",
    "# For this task, we can use its high-level Keras API:\n",
    "# https://keras.io\n",
    "\n",
    "from tensorflow.keras.layers import Input, Dense\n",
    "from tensorflow.keras.models import Sequential\n",
    "from tensorflow.keras import optimizers\n",
    "from kerastuner.engine.hyperparameters import HyperParameters\n",
    "\n",
    "def build_model(hp: HyperParameters):\n",
    "    \n",
    "    # IMPORTANT: This is an example of a very simple undercomplete autoencoder.\n",
    "    # Your autoencoder can be overcomplete (e.g. the encoding is wider than the input),\n",
    "    # and it can also be sparse (via L1/L2 norms).\n",
    "    # In other words, you will probably need to tweak these lines of code.\n",
    "    \n",
    "    layers = [\n",
    "        # Encoder: 50 nodes, Exponential Linear Unit activation\n",
    "        Dense(\n",
    "            units=hp.Int('encoder_width', min_value=5, max_value=15, step=5), \n",
    "            activation='elu', \n",
    "            input_shape=(28 * 28,)\n",
    "        ),\n",
    "\n",
    "        # Decoder: matches the shape of the image\n",
    "        # Sigmoid activation is needed because pixel\n",
    "        # values are real numbers between 0 (black) and 1 (white).\n",
    "        Dense(units=28*28, activation='sigmoid')\n",
    "    ]\n",
    "\n",
    "    # Sequential class is a Keras class that attaches every \n",
    "    # layer's output to the next layer's input.\n",
    "    # This is essentially a helper class for any feedforward networks.\n",
    "    autoencoder = Sequential(layers)\n",
    "\n",
    "    # Using MSE as the loss function, and Adam optimizer.\n",
    "    # Other optimizers can also be used.\n",
    "    autoencoder.compile(\n",
    "        optimizer=optimizers.Adam(\n",
    "            lr=hp.Float(name='learning_rate', min_value=1e-5, max_value=1e0, sampling='log')\n",
    "        ), \n",
    "        loss='mean_squared_error'\n",
    "    )\n",
    "    \n",
    "    return autoencoder"
   ]
  },
  {
   "cell_type": "code",
   "execution_count": 32,
   "metadata": {},
   "outputs": [],
   "source": [
    "# IMPORTANT: This is an example of a reconstruction training mode.\n",
    "# Your autoencoder has to be trained in denoising mode.\n",
    "# In other words, you will probably need to tweak these lines of code.\n",
    "\n",
    "def train_model(model, epochs):\n",
    "    history = model.fit(\n",
    "        x=train_clean_X, \n",
    "        y=train_clean_X, \n",
    "\n",
    "        # It's a good idea to have low number of epochs,\n",
    "        # to test the learning process, but not for the final model training.\n",
    "        epochs=epochs,\n",
    "\n",
    "        batch_size=128,\n",
    "        shuffle=True,\n",
    "        validation_data=(validate_clean_X, validate_clean_X)\n",
    "    )\n",
    "    return history"
   ]
  },
  {
   "cell_type": "code",
   "execution_count": 33,
   "metadata": {},
   "outputs": [
    {
     "name": "stdout",
     "output_type": "stream",
     "text": [
      "Epoch 1/20\n",
      "383/383 [==============================] - 1s 2ms/step - loss: 0.0428 - val_loss: 0.0202\n",
      "Epoch 2/20\n",
      "383/383 [==============================] - 1s 2ms/step - loss: 0.0151 - val_loss: 0.0117\n",
      "Epoch 3/20\n",
      "383/383 [==============================] - 1s 2ms/step - loss: 0.0098 - val_loss: 0.0084\n",
      "Epoch 4/20\n",
      "383/383 [==============================] - 1s 2ms/step - loss: 0.0075 - val_loss: 0.0068\n",
      "Epoch 5/20\n",
      "383/383 [==============================] - 1s 2ms/step - loss: 0.0062 - val_loss: 0.0058\n",
      "Epoch 6/20\n",
      "383/383 [==============================] - 1s 2ms/step - loss: 0.0055 - val_loss: 0.0053\n",
      "Epoch 7/20\n",
      "383/383 [==============================] - 1s 2ms/step - loss: 0.0051 - val_loss: 0.0050\n",
      "Epoch 8/20\n",
      "383/383 [==============================] - 1s 2ms/step - loss: 0.0048 - val_loss: 0.0047\n",
      "Epoch 9/20\n",
      "383/383 [==============================] - 1s 2ms/step - loss: 0.0046 - val_loss: 0.0046\n",
      "Epoch 10/20\n",
      "383/383 [==============================] - 1s 2ms/step - loss: 0.0045 - val_loss: 0.0045\n",
      "Epoch 11/20\n",
      "383/383 [==============================] - 1s 2ms/step - loss: 0.0044 - val_loss: 0.0044\n",
      "Epoch 12/20\n",
      "383/383 [==============================] - 1s 2ms/step - loss: 0.0043 - val_loss: 0.0044\n",
      "Epoch 13/20\n",
      "383/383 [==============================] - 1s 2ms/step - loss: 0.0043 - val_loss: 0.0043\n",
      "Epoch 14/20\n",
      "383/383 [==============================] - 1s 2ms/step - loss: 0.0042 - val_loss: 0.0042\n",
      "Epoch 15/20\n",
      "383/383 [==============================] - 1s 2ms/step - loss: 0.0041 - val_loss: 0.0041\n",
      "Epoch 16/20\n",
      "383/383 [==============================] - 1s 2ms/step - loss: 0.0040 - val_loss: 0.0040\n",
      "Epoch 17/20\n",
      "383/383 [==============================] - 1s 2ms/step - loss: 0.0039 - val_loss: 0.0039\n",
      "Epoch 18/20\n",
      "383/383 [==============================] - 1s 2ms/step - loss: 0.0037 - val_loss: 0.0038\n",
      "Epoch 19/20\n",
      "383/383 [==============================] - 1s 2ms/step - loss: 0.0036 - val_loss: 0.0037\n",
      "Epoch 20/20\n",
      "383/383 [==============================] - 1s 2ms/step - loss: 0.0035 - val_loss: 0.0035\n"
     ]
    }
   ],
   "source": [
    "# In order to have reproducible results, we need\n",
    "# to set the seed values for NumPy and Tensorflow.\n",
    "# Keep these lines in the same cell as the training code,\n",
    "# so that you don't accidentally train multiples models\n",
    "# without reseting the seed.\n",
    "\n",
    "import numpy as np\n",
    "import tensorflow as tf\n",
    "\n",
    "np.random.seed(11)\n",
    "tf.random.set_seed(11)\n",
    "\n",
    "hp = HyperParameters()\n",
    "hp.Fixed('encoder_width', value=100)\n",
    "hp.Fixed('learning_rate', value=0.001)\n",
    "\n",
    "autoencoder = build_model(hp)\n",
    "history = train_model(autoencoder, epochs=20)"
   ]
  },
  {
   "cell_type": "code",
   "execution_count": 34,
   "metadata": {},
   "outputs": [
    {
     "data": {
      "image/png": "[encoded data removed]",
      "text/plain": [
       "<Figure size 432x288 with 1 Axes>"
      ]
     },
     "metadata": {
      "image/png": {
       "height": 263,
       "width": 384
      },
      "needs_background": "light"
     },
     "output_type": "display_data"
    }
   ],
   "source": [
    "# The fit method returns a history object that\n",
    "# can be used to plot the learning curve.\n",
    "\n",
    "learning_curve = pd.Series(history.history['loss'])\n",
    "learning_curve.index = learning_curve.index + 1\n",
    "\n",
    "learning_curve.plot(title='Learning Curve')\n",
    "plt.xticks(learning_curve.index)\n",
    "plt.show()"
   ]
  },
  {
   "cell_type": "code",
   "execution_count": 23,
   "metadata": {},
   "outputs": [
    {
     "name": "stdout",
     "output_type": "stream",
     "text": [
      "INFO:tensorflow:Reloading Oracle from existing project denoiser_hyperop/autoencoder_04/oracle.json\n",
      "INFO:tensorflow:Reloading Tuner from denoiser_hyperop/autoencoder_04/tuner0.json\n",
      "Search space summary\n",
      "Default search space size: 2\n",
      "encoder_width (Int)\n",
      "{'default': None, 'conditions': [], 'min_value': 5, 'max_value': 15, 'step': 5, 'sampling': None}\n",
      "learning_rate (Float)\n",
      "{'default': 1e-05, 'conditions': [], 'min_value': 1e-05, 'max_value': 1.0, 'step': None, 'sampling': 'log'}\n"
     ]
    }
   ],
   "source": [
    "from kerastuner.tuners import RandomSearch\n",
    "\n",
    "# A tuner implements a particular hyperoptimization strategy.\n",
    "# This example uses a random search turner, which samples\n",
    "# hyperparameter values from the distributions specified\n",
    "# in the build_model function. You can use other tuners too:\n",
    "# https://keras-team.github.io/keras-tuner/documentation/tuners/\n",
    "\n",
    "tuner = RandomSearch(\n",
    "    build_model,\n",
    "    objective='val_loss',\n",
    "    max_trials=10,\n",
    "    executions_per_trial=3,\n",
    "    directory='denoiser_hyperop',\n",
    "    \n",
    "    # Experiment name must change if you modify\n",
    "    # the model structure or the set of hyperparameters.\n",
    "    project_name='autoencoder_04'\n",
    ")\n",
    "\n",
    "# This displays which hyperparameters are tunable, and their respective distribution.\n",
    "tuner.search_space_summary()"
   ]
  },
  {
   "cell_type": "code",
   "execution_count": 24,
   "metadata": {},
   "outputs": [
    {
     "name": "stdout",
     "output_type": "stream",
     "text": [
      "INFO:tensorflow:Oracle triggered exit\n"
     ]
    }
   ],
   "source": [
    "import numpy as np\n",
    "import tensorflow as tf\n",
    "np.random.seed(11)\n",
    "tf.random.set_seed(11)\n",
    "\n",
    "# IMPORTANT: This is an example of a reconstruction training mode.\n",
    "# Your autoencoder has to be trained in denoising mode.\n",
    "# In other words, you will probably need to tweak these lines of code.\n",
    "\n",
    "tuner.search(    \n",
    "    # All parameters here are passed thru to Model.fit function.\n",
    "    x=train_clean_X, \n",
    "    y=train_clean_X, \n",
    "    \n",
    "    # It's a good idea to have low number of epochs,\n",
    "    # to test the learning process, but not for the final model training.\n",
    "    epochs=3,\n",
    "    batch_size=128,\n",
    "    shuffle=True,\n",
    "    validation_data=(validate_clean_X, validate_clean_X)\n",
    ")"
   ]
  },
  {
   "cell_type": "code",
   "execution_count": 25,
   "metadata": {},
   "outputs": [],
   "source": [
    "# The following function can be used to view the search summary.\n",
    "# tuner.results_summary()"
   ]
  },
  {
   "cell_type": "code",
   "execution_count": 26,
   "metadata": {},
   "outputs": [
    {
     "data": {
      "text/html": [
       "<div>\n",
       "<style scoped>\n",
       "    .dataframe tbody tr th:only-of-type {\n",
       "        vertical-align: middle;\n",
       "    }\n",
       "\n",
       "    .dataframe tbody tr th {\n",
       "        vertical-align: top;\n",
       "    }\n",
       "\n",
       "    .dataframe thead th {\n",
       "        text-align: right;\n",
       "    }\n",
       "</style>\n",
       "<table border=\"1\" class=\"dataframe\">\n",
       "  <thead>\n",
       "    <tr style=\"text-align: right;\">\n",
       "      <th></th>\n",
       "      <th>score</th>\n",
       "      <th>encoder_width</th>\n",
       "      <th>learning_rate</th>\n",
       "    </tr>\n",
       "    <tr>\n",
       "      <th>trial_id</th>\n",
       "      <th></th>\n",
       "      <th></th>\n",
       "      <th></th>\n",
       "    </tr>\n",
       "  </thead>\n",
       "  <tbody>\n",
       "    <tr>\n",
       "      <th>fb49e29d63ba527bb1da2fdd858ea477</th>\n",
       "      <td>0.037593</td>\n",
       "      <td>10</td>\n",
       "      <td>0.015675</td>\n",
       "    </tr>\n",
       "    <tr>\n",
       "      <th>805205f14cb33ad36b7b37b1887b25dd</th>\n",
       "      <td>0.044625</td>\n",
       "      <td>10</td>\n",
       "      <td>0.001837</td>\n",
       "    </tr>\n",
       "    <tr>\n",
       "      <th>e6cf09c792f5617eba03c6c542a242e0</th>\n",
       "      <td>0.048902</td>\n",
       "      <td>10</td>\n",
       "      <td>0.001178</td>\n",
       "    </tr>\n",
       "    <tr>\n",
       "      <th>b739a9151b32af1847c3a4302bd718a3</th>\n",
       "      <td>0.061630</td>\n",
       "      <td>5</td>\n",
       "      <td>0.100089</td>\n",
       "    </tr>\n",
       "    <tr>\n",
       "      <th>07bd400787c06b58f0750dd4dcfae2d7</th>\n",
       "      <td>0.066839</td>\n",
       "      <td>15</td>\n",
       "      <td>0.000128</td>\n",
       "    </tr>\n",
       "    <tr>\n",
       "      <th>558858105cdc1d3b18ae4e6e88940575</th>\n",
       "      <td>0.072756</td>\n",
       "      <td>5</td>\n",
       "      <td>0.000127</td>\n",
       "    </tr>\n",
       "    <tr>\n",
       "      <th>3df551c1d9a721b7282c6a747fa34ea8</th>\n",
       "      <td>0.078243</td>\n",
       "      <td>5</td>\n",
       "      <td>0.000211</td>\n",
       "    </tr>\n",
       "    <tr>\n",
       "      <th>3f65965d2a5e95998848048402554674</th>\n",
       "      <td>0.095781</td>\n",
       "      <td>5</td>\n",
       "      <td>0.000110</td>\n",
       "    </tr>\n",
       "    <tr>\n",
       "      <th>76a4e3d016a6c7649a14dcdea5bfdb60</th>\n",
       "      <td>0.156895</td>\n",
       "      <td>10</td>\n",
       "      <td>0.000018</td>\n",
       "    </tr>\n",
       "    <tr>\n",
       "      <th>4f59225a25824cd9e3347829e7c7fbb1</th>\n",
       "      <td>0.164110</td>\n",
       "      <td>5</td>\n",
       "      <td>0.000025</td>\n",
       "    </tr>\n",
       "  </tbody>\n",
       "</table>\n",
       "</div>"
      ],
      "text/plain": [
       "                                     score  encoder_width  learning_rate\n",
       "trial_id                                                                \n",
       "fb49e29d63ba527bb1da2fdd858ea477  0.037593             10       0.015675\n",
       "805205f14cb33ad36b7b37b1887b25dd  0.044625             10       0.001837\n",
       "e6cf09c792f5617eba03c6c542a242e0  0.048902             10       0.001178\n",
       "b739a9151b32af1847c3a4302bd718a3  0.061630              5       0.100089\n",
       "07bd400787c06b58f0750dd4dcfae2d7  0.066839             15       0.000128\n",
       "558858105cdc1d3b18ae4e6e88940575  0.072756              5       0.000127\n",
       "3df551c1d9a721b7282c6a747fa34ea8  0.078243              5       0.000211\n",
       "3f65965d2a5e95998848048402554674  0.095781              5       0.000110\n",
       "76a4e3d016a6c7649a14dcdea5bfdb60  0.156895             10       0.000018\n",
       "4f59225a25824cd9e3347829e7c7fbb1  0.164110              5       0.000025"
      ]
     },
     "execution_count": 26,
     "metadata": {},
     "output_type": "execute_result"
    }
   ],
   "source": [
    "# The tuner's oracle property can be used to fetch information\n",
    "# about every trial, which can be used to build a table like so.\n",
    "\n",
    "pd.DataFrame([\n",
    "    {\n",
    "        'trial_id': t.trial_id,\n",
    "        'score': t.score,\n",
    "        **t.hyperparameters.values \n",
    "    }\n",
    "    for t in tuner.oracle.get_best_trials(num_trials=10)\n",
    "]).set_index('trial_id')"
   ]
  },
  {
   "cell_type": "code",
   "execution_count": 27,
   "metadata": {},
   "outputs": [],
   "source": [
    "# This returns the best model found during the search.\n",
    "autoencoder = tuner.get_best_models(num_models=1)[0]"
   ]
  },
  {
   "cell_type": "code",
   "execution_count": 28,
   "metadata": {},
   "outputs": [
    {
     "data": {
      "text/plain": [
       "{'encoder_width': 10, 'learning_rate': 0.015675085194668554}"
      ]
     },
     "execution_count": 28,
     "metadata": {},
     "output_type": "execute_result"
    }
   ],
   "source": [
    "# You can proceed with the above model, but it might \n",
    "# be also a good idea to do a final training pass with the best hyperparameters\n",
    "best_hyperparameters = tuner.get_best_hyperparameters()[0]\n",
    "best_hyperparameters.values\n",
    "# autoencoder = build_model(best_hyperparameters)"
   ]
  },
  {
   "cell_type": "code",
   "execution_count": 37,
   "metadata": {},
   "outputs": [],
   "source": [
    "# Now we can feed the noisy images into the autoencoder.\n",
    "train_denoised_X = autoencoder.predict(train_noisy_X)\n",
    "\n",
    "# Keras returns back a Numpy array, but we need Pandas dataframe,\n",
    "# so let's quickly put the denoised images into a dataframe.\n",
    "train_denoised_X = pd.DataFrame(train_denoised_X)"
   ]
  },
  {
   "cell_type": "code",
   "execution_count": 38,
   "metadata": {},
   "outputs": [
    {
     "data": {
      "image/png": "[encoded data removed]",
      "text/plain": [
       "<Figure size 432x288 with 1 Axes>"
      ]
     },
     "metadata": {
      "image/png": {
       "height": 248,
       "width": 251
      },
      "needs_background": "light"
     },
     "output_type": "display_data"
    }
   ],
   "source": [
    "# Let's confirm that the denoiser works.\n",
    "image_pixels = train_denoised_X.iloc[4]\n",
    "\n",
    "# In order to plot an image, you need to reshape\n",
    "# the array into a 28x28 grid.\n",
    "image_pixels = image_pixels.values.reshape(28, 28)\n",
    "\n",
    "plt.imshow(image_pixels, cmap='binary')\n",
    "plt.show()"
   ]
  },
  {
   "cell_type": "code",
   "execution_count": 39,
   "metadata": {},
   "outputs": [
    {
     "data": {
      "text/plain": [
       "0.009762169"
      ]
     },
     "execution_count": 39,
     "metadata": {},
     "output_type": "execute_result"
    }
   ],
   "source": [
    "# To calculate MSE between two datasets we can use scikit-learn:\n",
    "# https://scikit-learn.org/stable/\n",
    "from sklearn.metrics import mean_squared_error\n",
    "\n",
    "# This calcualates MSE on train clean against train denoised,\n",
    "# which measures how well the autoencoder denoises the training dataset.\n",
    "# Note that you really want to calculate this metric on validate and/or test dataset.\n",
    "# Don't let an overfitting model fool you into using it for the graded submission!\n",
    "mean_squared_error(train_denoised_X, train_clean_X)"
   ]
  },
  {
   "cell_type": "code",
   "execution_count": 22,
   "metadata": {},
   "outputs": [],
   "source": [
    "import os \n",
    "\n",
    "model_dir = 'denoiser_model'\n",
    "\n",
    "os.makedirs(model_dir, exist_ok=True)\n",
    "\n",
    "# Once you are ready to make the graded submission,\n",
    "# run the autoencoder on the score noisy dataset.\n",
    "score_denoised_X = pd.DataFrame(\n",
    "    autoencoder.predict(score_noisy_X),\n",
    "    # This is needed to save the file in Parquet format.\n",
    "    columns=score_noisy_X.columns\n",
    ")\n",
    "\n",
    "# Now save it to disc as a Parquet file.\n",
    "score_denoised_X.to_parquet(f'{model_dir}/score_denoised_x.parquet')\n",
    "\n",
    "# Next, let's save the model's definition.\n",
    "import json\n",
    "with open(f'{model_dir}/keras_model.json', 'w') as f:\n",
    "    f.write(json.dumps(json.loads(autoencoder.to_json()), indent=True))\n",
    "\n",
    "# Finally, let's save the learned parameters.\n",
    "autoencoder.save_weights(f'{model_dir}/keras_parameters.h5')\n",
    "\n",
    "# You now have the following files to be uploaded to Moodle:\n",
    "# 1. This notebook and any other Python code you used to train the final model.\n",
    "# 2. keras_model.json -- the model's definition\n",
    "# 3. keras_parameters.json -- the model's trained parameters\n",
    "# 4. score_denoised_X.parquet - the model's output on the score dataset"
   ]
  }
 ],
 "metadata": {
  "kernelspec": {
   "display_name": "Python 3",
   "language": "python",
   "name": "python3"
  },
  "language_info": {
   "codemirror_mode": {
    "name": "ipython",
    "version": 3
   },
   "file_extension": ".py",
   "mimetype": "text/x-python",
   "name": "python",
   "nbconvert_exporter": "python",
   "pygments_lexer": "ipython3",
   "version": "3.8.5"
  }
 },
 "nbformat": 4,
 "nbformat_minor": 4
}
